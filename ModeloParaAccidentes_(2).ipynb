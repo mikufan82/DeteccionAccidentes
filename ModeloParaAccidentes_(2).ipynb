{
  "nbformat": 4,
  "nbformat_minor": 0,
  "metadata": {
    "colab": {
      "provenance": [],
      "gpuType": "T4"
    },
    "kernelspec": {
      "name": "python3",
      "display_name": "Python 3"
    },
    "language_info": {
      "name": "python"
    },
    "accelerator": "GPU"
  },
  "cells": [
    {
      "cell_type": "code",
      "execution_count": null,
      "metadata": {
        "colab": {
          "base_uri": "https://localhost:8080/"
        },
        "id": "dbx9cPZDFB5B",
        "outputId": "14443025-8150-4b52-dd6d-325671d295be"
      },
      "outputs": [
        {
          "output_type": "stream",
          "name": "stdout",
          "text": [
            "Collecting roboflow\n",
            "  Downloading roboflow-1.1.49-py3-none-any.whl.metadata (9.7 kB)\n",
            "Requirement already satisfied: certifi in /usr/local/lib/python3.10/dist-packages (from roboflow) (2024.8.30)\n",
            "Collecting idna==3.7 (from roboflow)\n",
            "  Downloading idna-3.7-py3-none-any.whl.metadata (9.9 kB)\n",
            "Requirement already satisfied: cycler in /usr/local/lib/python3.10/dist-packages (from roboflow) (0.12.1)\n",
            "Requirement already satisfied: kiwisolver>=1.3.1 in /usr/local/lib/python3.10/dist-packages (from roboflow) (1.4.7)\n",
            "Requirement already satisfied: matplotlib in /usr/local/lib/python3.10/dist-packages (from roboflow) (3.8.0)\n",
            "Requirement already satisfied: numpy>=1.18.5 in /usr/local/lib/python3.10/dist-packages (from roboflow) (1.26.4)\n",
            "Requirement already satisfied: opencv-python-headless==4.10.0.84 in /usr/local/lib/python3.10/dist-packages (from roboflow) (4.10.0.84)\n",
            "Requirement already satisfied: Pillow>=7.1.2 in /usr/local/lib/python3.10/dist-packages (from roboflow) (11.0.0)\n",
            "Requirement already satisfied: python-dateutil in /usr/local/lib/python3.10/dist-packages (from roboflow) (2.8.2)\n",
            "Collecting python-dotenv (from roboflow)\n",
            "  Downloading python_dotenv-1.0.1-py3-none-any.whl.metadata (23 kB)\n",
            "Requirement already satisfied: requests in /usr/local/lib/python3.10/dist-packages (from roboflow) (2.32.3)\n",
            "Requirement already satisfied: six in /usr/local/lib/python3.10/dist-packages (from roboflow) (1.16.0)\n",
            "Requirement already satisfied: urllib3>=1.26.6 in /usr/local/lib/python3.10/dist-packages (from roboflow) (2.2.3)\n",
            "Requirement already satisfied: tqdm>=4.41.0 in /usr/local/lib/python3.10/dist-packages (from roboflow) (4.66.6)\n",
            "Requirement already satisfied: PyYAML>=5.3.1 in /usr/local/lib/python3.10/dist-packages (from roboflow) (6.0.2)\n",
            "Requirement already satisfied: requests-toolbelt in /usr/local/lib/python3.10/dist-packages (from roboflow) (1.0.0)\n",
            "Collecting filetype (from roboflow)\n",
            "  Downloading filetype-1.2.0-py2.py3-none-any.whl.metadata (6.5 kB)\n",
            "Requirement already satisfied: contourpy>=1.0.1 in /usr/local/lib/python3.10/dist-packages (from matplotlib->roboflow) (1.3.0)\n",
            "Requirement already satisfied: fonttools>=4.22.0 in /usr/local/lib/python3.10/dist-packages (from matplotlib->roboflow) (4.54.1)\n",
            "Requirement already satisfied: packaging>=20.0 in /usr/local/lib/python3.10/dist-packages (from matplotlib->roboflow) (24.2)\n",
            "Requirement already satisfied: pyparsing>=2.3.1 in /usr/local/lib/python3.10/dist-packages (from matplotlib->roboflow) (3.2.0)\n",
            "Requirement already satisfied: charset-normalizer<4,>=2 in /usr/local/lib/python3.10/dist-packages (from requests->roboflow) (3.4.0)\n",
            "Downloading roboflow-1.1.49-py3-none-any.whl (80 kB)\n",
            "\u001b[2K   \u001b[90m━━━━━━━━━━━━━━━━━━━━━━━━━━━━━━━━━━━━━━━━\u001b[0m \u001b[32m80.9/80.9 kB\u001b[0m \u001b[31m5.6 MB/s\u001b[0m eta \u001b[36m0:00:00\u001b[0m\n",
            "\u001b[?25hDownloading idna-3.7-py3-none-any.whl (66 kB)\n",
            "\u001b[2K   \u001b[90m━━━━━━━━━━━━━━━━━━━━━━━━━━━━━━━━━━━━━━━━\u001b[0m \u001b[32m66.8/66.8 kB\u001b[0m \u001b[31m5.6 MB/s\u001b[0m eta \u001b[36m0:00:00\u001b[0m\n",
            "\u001b[?25hDownloading filetype-1.2.0-py2.py3-none-any.whl (19 kB)\n",
            "Downloading python_dotenv-1.0.1-py3-none-any.whl (19 kB)\n",
            "Installing collected packages: filetype, python-dotenv, idna, roboflow\n",
            "  Attempting uninstall: idna\n",
            "    Found existing installation: idna 3.10\n",
            "    Uninstalling idna-3.10:\n",
            "      Successfully uninstalled idna-3.10\n",
            "Successfully installed filetype-1.2.0 idna-3.7 python-dotenv-1.0.1 roboflow-1.1.49\n",
            "loading Roboflow workspace...\n",
            "loading Roboflow project...\n"
          ]
        },
        {
          "output_type": "stream",
          "name": "stderr",
          "text": [
            "Downloading Dataset Version Zip in Modelo-de-deteccion-de-Accidente-4 to folder:: 100%|██████████| 203988/203988 [00:13<00:00, 15071.41it/s]"
          ]
        },
        {
          "output_type": "stream",
          "name": "stdout",
          "text": [
            "\n"
          ]
        },
        {
          "output_type": "stream",
          "name": "stderr",
          "text": [
            "\n",
            "Extracting Dataset Version Zip to Modelo-de-deteccion-de-Accidente-4 in folder:: 100%|██████████| 3951/3951 [00:01<00:00, 3215.80it/s]\n"
          ]
        }
      ],
      "source": [
        "!pip install roboflow\n",
        "\n",
        "from roboflow import Roboflow\n",
        "rf = Roboflow(api_key=\"3rAKozTp5vKr2981hco7\")\n",
        "project = rf.workspace(\"ml-n2gfx\").project(\"modelo-de-deteccion-de-accidente\")\n",
        "version = project.version(4)\n",
        "dataset = version.download(\"folder\")"
      ]
    },
    {
      "cell_type": "code",
      "source": [
        "import tensorflow as tf\n",
        "from tensorflow.keras.models import Sequential\n",
        "from tensorflow.keras.layers import Conv2D, MaxPooling2D, Flatten, Dense, Dropout, BatchNormalization\n",
        "\n",
        "# Define la arquitectura de la CNN\n",
        "model = Sequential([\n",
        "    Conv2D(32, (3, 3), activation='relu', input_shape=(224, 224, 3)),\n",
        "    MaxPooling2D(pool_size=(2, 2)),\n",
        "    BatchNormalization(),\n",
        "\n",
        "    Conv2D(64, (3, 3), activation='relu'),\n",
        "    MaxPooling2D(pool_size=(2, 2)),\n",
        "    BatchNormalization(),\n",
        "\n",
        "    Conv2D(128, (3, 3), activation='relu'),\n",
        "    MaxPooling2D(pool_size=(2, 2)),\n",
        "    BatchNormalization(),\n",
        "\n",
        "    Conv2D(256, (3, 3), activation='relu'),\n",
        "    MaxPooling2D(pool_size=(2, 2)),\n",
        "    BatchNormalization(),\n",
        "\n",
        "    # Nuevas capas convolucionales adicionales\n",
        "    Conv2D(512, (3, 3), activation='relu'),\n",
        "    MaxPooling2D(pool_size=(2, 2)),\n",
        "    BatchNormalization(),\n",
        "\n",
        "    Conv2D(512, (3, 3), activation='relu'),\n",
        "    MaxPooling2D(pool_size=(2, 2)),\n",
        "    BatchNormalization(),\n",
        "\n",
        "    Flatten(),\n",
        "\n",
        "    # Capas densas adicionales\n",
        "    Dense(512, activation='relu'),\n",
        "    Dropout(0.5),  # Aumenta la regularización\n",
        "\n",
        "    Dense(256, activation='relu'),\n",
        "    Dropout(0.5),\n",
        "\n",
        "    Dense(1, activation='sigmoid')  # Salida para clasificación binaria\n",
        "])\n",
        "\n",
        "# Compila el modelo\n",
        "model.compile(optimizer='adam', loss='binary_crossentropy', metrics=['accuracy'])\n",
        "\n",
        "model.summary()\n"
      ],
      "metadata": {
        "colab": {
          "base_uri": "https://localhost:8080/",
          "height": 1000
        },
        "id": "OLLf4YE8Fnn2",
        "outputId": "fb0afa2c-086b-4a83-8f56-4d46724423ac"
      },
      "execution_count": null,
      "outputs": [
        {
          "output_type": "stream",
          "name": "stderr",
          "text": [
            "Do not pass an `input_shape`/`input_dim` argument to a layer. When using Sequential models, prefer using an `Input(shape)` object as the first layer in the model instead.\n"
          ]
        },
        {
          "output_type": "display_data",
          "data": {
            "text/plain": [
              "\u001b[1mModel: \"sequential\"\u001b[0m\n"
            ],
            "text/html": [
              "<pre style=\"white-space:pre;overflow-x:auto;line-height:normal;font-family:Menlo,'DejaVu Sans Mono',consolas,'Courier New',monospace\"><span style=\"font-weight: bold\">Model: \"sequential\"</span>\n",
              "</pre>\n"
            ]
          },
          "metadata": {}
        },
        {
          "output_type": "display_data",
          "data": {
            "text/plain": [
              "┏━━━━━━━━━━━━━━━━━━━━━━━━━━━━━━━━━━━━━━┳━━━━━━━━━━━━━━━━━━━━━━━━━━━━━┳━━━━━━━━━━━━━━━━━┓\n",
              "┃\u001b[1m \u001b[0m\u001b[1mLayer (type)                        \u001b[0m\u001b[1m \u001b[0m┃\u001b[1m \u001b[0m\u001b[1mOutput Shape               \u001b[0m\u001b[1m \u001b[0m┃\u001b[1m \u001b[0m\u001b[1m        Param #\u001b[0m\u001b[1m \u001b[0m┃\n",
              "┡━━━━━━━━━━━━━━━━━━━━━━━━━━━━━━━━━━━━━━╇━━━━━━━━━━━━━━━━━━━━━━━━━━━━━╇━━━━━━━━━━━━━━━━━┩\n",
              "│ conv2d (\u001b[38;5;33mConv2D\u001b[0m)                      │ (\u001b[38;5;45mNone\u001b[0m, \u001b[38;5;34m222\u001b[0m, \u001b[38;5;34m222\u001b[0m, \u001b[38;5;34m32\u001b[0m)        │             \u001b[38;5;34m896\u001b[0m │\n",
              "├──────────────────────────────────────┼─────────────────────────────┼─────────────────┤\n",
              "│ max_pooling2d (\u001b[38;5;33mMaxPooling2D\u001b[0m)         │ (\u001b[38;5;45mNone\u001b[0m, \u001b[38;5;34m111\u001b[0m, \u001b[38;5;34m111\u001b[0m, \u001b[38;5;34m32\u001b[0m)        │               \u001b[38;5;34m0\u001b[0m │\n",
              "├──────────────────────────────────────┼─────────────────────────────┼─────────────────┤\n",
              "│ batch_normalization                  │ (\u001b[38;5;45mNone\u001b[0m, \u001b[38;5;34m111\u001b[0m, \u001b[38;5;34m111\u001b[0m, \u001b[38;5;34m32\u001b[0m)        │             \u001b[38;5;34m128\u001b[0m │\n",
              "│ (\u001b[38;5;33mBatchNormalization\u001b[0m)                 │                             │                 │\n",
              "├──────────────────────────────────────┼─────────────────────────────┼─────────────────┤\n",
              "│ conv2d_1 (\u001b[38;5;33mConv2D\u001b[0m)                    │ (\u001b[38;5;45mNone\u001b[0m, \u001b[38;5;34m109\u001b[0m, \u001b[38;5;34m109\u001b[0m, \u001b[38;5;34m64\u001b[0m)        │          \u001b[38;5;34m18,496\u001b[0m │\n",
              "├──────────────────────────────────────┼─────────────────────────────┼─────────────────┤\n",
              "│ max_pooling2d_1 (\u001b[38;5;33mMaxPooling2D\u001b[0m)       │ (\u001b[38;5;45mNone\u001b[0m, \u001b[38;5;34m54\u001b[0m, \u001b[38;5;34m54\u001b[0m, \u001b[38;5;34m64\u001b[0m)          │               \u001b[38;5;34m0\u001b[0m │\n",
              "├──────────────────────────────────────┼─────────────────────────────┼─────────────────┤\n",
              "│ batch_normalization_1                │ (\u001b[38;5;45mNone\u001b[0m, \u001b[38;5;34m54\u001b[0m, \u001b[38;5;34m54\u001b[0m, \u001b[38;5;34m64\u001b[0m)          │             \u001b[38;5;34m256\u001b[0m │\n",
              "│ (\u001b[38;5;33mBatchNormalization\u001b[0m)                 │                             │                 │\n",
              "├──────────────────────────────────────┼─────────────────────────────┼─────────────────┤\n",
              "│ conv2d_2 (\u001b[38;5;33mConv2D\u001b[0m)                    │ (\u001b[38;5;45mNone\u001b[0m, \u001b[38;5;34m52\u001b[0m, \u001b[38;5;34m52\u001b[0m, \u001b[38;5;34m128\u001b[0m)         │          \u001b[38;5;34m73,856\u001b[0m │\n",
              "├──────────────────────────────────────┼─────────────────────────────┼─────────────────┤\n",
              "│ max_pooling2d_2 (\u001b[38;5;33mMaxPooling2D\u001b[0m)       │ (\u001b[38;5;45mNone\u001b[0m, \u001b[38;5;34m26\u001b[0m, \u001b[38;5;34m26\u001b[0m, \u001b[38;5;34m128\u001b[0m)         │               \u001b[38;5;34m0\u001b[0m │\n",
              "├──────────────────────────────────────┼─────────────────────────────┼─────────────────┤\n",
              "│ batch_normalization_2                │ (\u001b[38;5;45mNone\u001b[0m, \u001b[38;5;34m26\u001b[0m, \u001b[38;5;34m26\u001b[0m, \u001b[38;5;34m128\u001b[0m)         │             \u001b[38;5;34m512\u001b[0m │\n",
              "│ (\u001b[38;5;33mBatchNormalization\u001b[0m)                 │                             │                 │\n",
              "├──────────────────────────────────────┼─────────────────────────────┼─────────────────┤\n",
              "│ conv2d_3 (\u001b[38;5;33mConv2D\u001b[0m)                    │ (\u001b[38;5;45mNone\u001b[0m, \u001b[38;5;34m24\u001b[0m, \u001b[38;5;34m24\u001b[0m, \u001b[38;5;34m256\u001b[0m)         │         \u001b[38;5;34m295,168\u001b[0m │\n",
              "├──────────────────────────────────────┼─────────────────────────────┼─────────────────┤\n",
              "│ max_pooling2d_3 (\u001b[38;5;33mMaxPooling2D\u001b[0m)       │ (\u001b[38;5;45mNone\u001b[0m, \u001b[38;5;34m12\u001b[0m, \u001b[38;5;34m12\u001b[0m, \u001b[38;5;34m256\u001b[0m)         │               \u001b[38;5;34m0\u001b[0m │\n",
              "├──────────────────────────────────────┼─────────────────────────────┼─────────────────┤\n",
              "│ batch_normalization_3                │ (\u001b[38;5;45mNone\u001b[0m, \u001b[38;5;34m12\u001b[0m, \u001b[38;5;34m12\u001b[0m, \u001b[38;5;34m256\u001b[0m)         │           \u001b[38;5;34m1,024\u001b[0m │\n",
              "│ (\u001b[38;5;33mBatchNormalization\u001b[0m)                 │                             │                 │\n",
              "├──────────────────────────────────────┼─────────────────────────────┼─────────────────┤\n",
              "│ conv2d_4 (\u001b[38;5;33mConv2D\u001b[0m)                    │ (\u001b[38;5;45mNone\u001b[0m, \u001b[38;5;34m10\u001b[0m, \u001b[38;5;34m10\u001b[0m, \u001b[38;5;34m512\u001b[0m)         │       \u001b[38;5;34m1,180,160\u001b[0m │\n",
              "├──────────────────────────────────────┼─────────────────────────────┼─────────────────┤\n",
              "│ max_pooling2d_4 (\u001b[38;5;33mMaxPooling2D\u001b[0m)       │ (\u001b[38;5;45mNone\u001b[0m, \u001b[38;5;34m5\u001b[0m, \u001b[38;5;34m5\u001b[0m, \u001b[38;5;34m512\u001b[0m)           │               \u001b[38;5;34m0\u001b[0m │\n",
              "├──────────────────────────────────────┼─────────────────────────────┼─────────────────┤\n",
              "│ batch_normalization_4                │ (\u001b[38;5;45mNone\u001b[0m, \u001b[38;5;34m5\u001b[0m, \u001b[38;5;34m5\u001b[0m, \u001b[38;5;34m512\u001b[0m)           │           \u001b[38;5;34m2,048\u001b[0m │\n",
              "│ (\u001b[38;5;33mBatchNormalization\u001b[0m)                 │                             │                 │\n",
              "├──────────────────────────────────────┼─────────────────────────────┼─────────────────┤\n",
              "│ conv2d_5 (\u001b[38;5;33mConv2D\u001b[0m)                    │ (\u001b[38;5;45mNone\u001b[0m, \u001b[38;5;34m3\u001b[0m, \u001b[38;5;34m3\u001b[0m, \u001b[38;5;34m512\u001b[0m)           │       \u001b[38;5;34m2,359,808\u001b[0m │\n",
              "├──────────────────────────────────────┼─────────────────────────────┼─────────────────┤\n",
              "│ max_pooling2d_5 (\u001b[38;5;33mMaxPooling2D\u001b[0m)       │ (\u001b[38;5;45mNone\u001b[0m, \u001b[38;5;34m1\u001b[0m, \u001b[38;5;34m1\u001b[0m, \u001b[38;5;34m512\u001b[0m)           │               \u001b[38;5;34m0\u001b[0m │\n",
              "├──────────────────────────────────────┼─────────────────────────────┼─────────────────┤\n",
              "│ batch_normalization_5                │ (\u001b[38;5;45mNone\u001b[0m, \u001b[38;5;34m1\u001b[0m, \u001b[38;5;34m1\u001b[0m, \u001b[38;5;34m512\u001b[0m)           │           \u001b[38;5;34m2,048\u001b[0m │\n",
              "│ (\u001b[38;5;33mBatchNormalization\u001b[0m)                 │                             │                 │\n",
              "├──────────────────────────────────────┼─────────────────────────────┼─────────────────┤\n",
              "│ flatten (\u001b[38;5;33mFlatten\u001b[0m)                    │ (\u001b[38;5;45mNone\u001b[0m, \u001b[38;5;34m512\u001b[0m)                 │               \u001b[38;5;34m0\u001b[0m │\n",
              "├──────────────────────────────────────┼─────────────────────────────┼─────────────────┤\n",
              "│ dense (\u001b[38;5;33mDense\u001b[0m)                        │ (\u001b[38;5;45mNone\u001b[0m, \u001b[38;5;34m512\u001b[0m)                 │         \u001b[38;5;34m262,656\u001b[0m │\n",
              "├──────────────────────────────────────┼─────────────────────────────┼─────────────────┤\n",
              "│ dropout (\u001b[38;5;33mDropout\u001b[0m)                    │ (\u001b[38;5;45mNone\u001b[0m, \u001b[38;5;34m512\u001b[0m)                 │               \u001b[38;5;34m0\u001b[0m │\n",
              "├──────────────────────────────────────┼─────────────────────────────┼─────────────────┤\n",
              "│ dense_1 (\u001b[38;5;33mDense\u001b[0m)                      │ (\u001b[38;5;45mNone\u001b[0m, \u001b[38;5;34m256\u001b[0m)                 │         \u001b[38;5;34m131,328\u001b[0m │\n",
              "├──────────────────────────────────────┼─────────────────────────────┼─────────────────┤\n",
              "│ dropout_1 (\u001b[38;5;33mDropout\u001b[0m)                  │ (\u001b[38;5;45mNone\u001b[0m, \u001b[38;5;34m256\u001b[0m)                 │               \u001b[38;5;34m0\u001b[0m │\n",
              "├──────────────────────────────────────┼─────────────────────────────┼─────────────────┤\n",
              "│ dense_2 (\u001b[38;5;33mDense\u001b[0m)                      │ (\u001b[38;5;45mNone\u001b[0m, \u001b[38;5;34m1\u001b[0m)                   │             \u001b[38;5;34m257\u001b[0m │\n",
              "└──────────────────────────────────────┴─────────────────────────────┴─────────────────┘\n"
            ],
            "text/html": [
              "<pre style=\"white-space:pre;overflow-x:auto;line-height:normal;font-family:Menlo,'DejaVu Sans Mono',consolas,'Courier New',monospace\">┏━━━━━━━━━━━━━━━━━━━━━━━━━━━━━━━━━━━━━━┳━━━━━━━━━━━━━━━━━━━━━━━━━━━━━┳━━━━━━━━━━━━━━━━━┓\n",
              "┃<span style=\"font-weight: bold\"> Layer (type)                         </span>┃<span style=\"font-weight: bold\"> Output Shape                </span>┃<span style=\"font-weight: bold\">         Param # </span>┃\n",
              "┡━━━━━━━━━━━━━━━━━━━━━━━━━━━━━━━━━━━━━━╇━━━━━━━━━━━━━━━━━━━━━━━━━━━━━╇━━━━━━━━━━━━━━━━━┩\n",
              "│ conv2d (<span style=\"color: #0087ff; text-decoration-color: #0087ff\">Conv2D</span>)                      │ (<span style=\"color: #00d7ff; text-decoration-color: #00d7ff\">None</span>, <span style=\"color: #00af00; text-decoration-color: #00af00\">222</span>, <span style=\"color: #00af00; text-decoration-color: #00af00\">222</span>, <span style=\"color: #00af00; text-decoration-color: #00af00\">32</span>)        │             <span style=\"color: #00af00; text-decoration-color: #00af00\">896</span> │\n",
              "├──────────────────────────────────────┼─────────────────────────────┼─────────────────┤\n",
              "│ max_pooling2d (<span style=\"color: #0087ff; text-decoration-color: #0087ff\">MaxPooling2D</span>)         │ (<span style=\"color: #00d7ff; text-decoration-color: #00d7ff\">None</span>, <span style=\"color: #00af00; text-decoration-color: #00af00\">111</span>, <span style=\"color: #00af00; text-decoration-color: #00af00\">111</span>, <span style=\"color: #00af00; text-decoration-color: #00af00\">32</span>)        │               <span style=\"color: #00af00; text-decoration-color: #00af00\">0</span> │\n",
              "├──────────────────────────────────────┼─────────────────────────────┼─────────────────┤\n",
              "│ batch_normalization                  │ (<span style=\"color: #00d7ff; text-decoration-color: #00d7ff\">None</span>, <span style=\"color: #00af00; text-decoration-color: #00af00\">111</span>, <span style=\"color: #00af00; text-decoration-color: #00af00\">111</span>, <span style=\"color: #00af00; text-decoration-color: #00af00\">32</span>)        │             <span style=\"color: #00af00; text-decoration-color: #00af00\">128</span> │\n",
              "│ (<span style=\"color: #0087ff; text-decoration-color: #0087ff\">BatchNormalization</span>)                 │                             │                 │\n",
              "├──────────────────────────────────────┼─────────────────────────────┼─────────────────┤\n",
              "│ conv2d_1 (<span style=\"color: #0087ff; text-decoration-color: #0087ff\">Conv2D</span>)                    │ (<span style=\"color: #00d7ff; text-decoration-color: #00d7ff\">None</span>, <span style=\"color: #00af00; text-decoration-color: #00af00\">109</span>, <span style=\"color: #00af00; text-decoration-color: #00af00\">109</span>, <span style=\"color: #00af00; text-decoration-color: #00af00\">64</span>)        │          <span style=\"color: #00af00; text-decoration-color: #00af00\">18,496</span> │\n",
              "├──────────────────────────────────────┼─────────────────────────────┼─────────────────┤\n",
              "│ max_pooling2d_1 (<span style=\"color: #0087ff; text-decoration-color: #0087ff\">MaxPooling2D</span>)       │ (<span style=\"color: #00d7ff; text-decoration-color: #00d7ff\">None</span>, <span style=\"color: #00af00; text-decoration-color: #00af00\">54</span>, <span style=\"color: #00af00; text-decoration-color: #00af00\">54</span>, <span style=\"color: #00af00; text-decoration-color: #00af00\">64</span>)          │               <span style=\"color: #00af00; text-decoration-color: #00af00\">0</span> │\n",
              "├──────────────────────────────────────┼─────────────────────────────┼─────────────────┤\n",
              "│ batch_normalization_1                │ (<span style=\"color: #00d7ff; text-decoration-color: #00d7ff\">None</span>, <span style=\"color: #00af00; text-decoration-color: #00af00\">54</span>, <span style=\"color: #00af00; text-decoration-color: #00af00\">54</span>, <span style=\"color: #00af00; text-decoration-color: #00af00\">64</span>)          │             <span style=\"color: #00af00; text-decoration-color: #00af00\">256</span> │\n",
              "│ (<span style=\"color: #0087ff; text-decoration-color: #0087ff\">BatchNormalization</span>)                 │                             │                 │\n",
              "├──────────────────────────────────────┼─────────────────────────────┼─────────────────┤\n",
              "│ conv2d_2 (<span style=\"color: #0087ff; text-decoration-color: #0087ff\">Conv2D</span>)                    │ (<span style=\"color: #00d7ff; text-decoration-color: #00d7ff\">None</span>, <span style=\"color: #00af00; text-decoration-color: #00af00\">52</span>, <span style=\"color: #00af00; text-decoration-color: #00af00\">52</span>, <span style=\"color: #00af00; text-decoration-color: #00af00\">128</span>)         │          <span style=\"color: #00af00; text-decoration-color: #00af00\">73,856</span> │\n",
              "├──────────────────────────────────────┼─────────────────────────────┼─────────────────┤\n",
              "│ max_pooling2d_2 (<span style=\"color: #0087ff; text-decoration-color: #0087ff\">MaxPooling2D</span>)       │ (<span style=\"color: #00d7ff; text-decoration-color: #00d7ff\">None</span>, <span style=\"color: #00af00; text-decoration-color: #00af00\">26</span>, <span style=\"color: #00af00; text-decoration-color: #00af00\">26</span>, <span style=\"color: #00af00; text-decoration-color: #00af00\">128</span>)         │               <span style=\"color: #00af00; text-decoration-color: #00af00\">0</span> │\n",
              "├──────────────────────────────────────┼─────────────────────────────┼─────────────────┤\n",
              "│ batch_normalization_2                │ (<span style=\"color: #00d7ff; text-decoration-color: #00d7ff\">None</span>, <span style=\"color: #00af00; text-decoration-color: #00af00\">26</span>, <span style=\"color: #00af00; text-decoration-color: #00af00\">26</span>, <span style=\"color: #00af00; text-decoration-color: #00af00\">128</span>)         │             <span style=\"color: #00af00; text-decoration-color: #00af00\">512</span> │\n",
              "│ (<span style=\"color: #0087ff; text-decoration-color: #0087ff\">BatchNormalization</span>)                 │                             │                 │\n",
              "├──────────────────────────────────────┼─────────────────────────────┼─────────────────┤\n",
              "│ conv2d_3 (<span style=\"color: #0087ff; text-decoration-color: #0087ff\">Conv2D</span>)                    │ (<span style=\"color: #00d7ff; text-decoration-color: #00d7ff\">None</span>, <span style=\"color: #00af00; text-decoration-color: #00af00\">24</span>, <span style=\"color: #00af00; text-decoration-color: #00af00\">24</span>, <span style=\"color: #00af00; text-decoration-color: #00af00\">256</span>)         │         <span style=\"color: #00af00; text-decoration-color: #00af00\">295,168</span> │\n",
              "├──────────────────────────────────────┼─────────────────────────────┼─────────────────┤\n",
              "│ max_pooling2d_3 (<span style=\"color: #0087ff; text-decoration-color: #0087ff\">MaxPooling2D</span>)       │ (<span style=\"color: #00d7ff; text-decoration-color: #00d7ff\">None</span>, <span style=\"color: #00af00; text-decoration-color: #00af00\">12</span>, <span style=\"color: #00af00; text-decoration-color: #00af00\">12</span>, <span style=\"color: #00af00; text-decoration-color: #00af00\">256</span>)         │               <span style=\"color: #00af00; text-decoration-color: #00af00\">0</span> │\n",
              "├──────────────────────────────────────┼─────────────────────────────┼─────────────────┤\n",
              "│ batch_normalization_3                │ (<span style=\"color: #00d7ff; text-decoration-color: #00d7ff\">None</span>, <span style=\"color: #00af00; text-decoration-color: #00af00\">12</span>, <span style=\"color: #00af00; text-decoration-color: #00af00\">12</span>, <span style=\"color: #00af00; text-decoration-color: #00af00\">256</span>)         │           <span style=\"color: #00af00; text-decoration-color: #00af00\">1,024</span> │\n",
              "│ (<span style=\"color: #0087ff; text-decoration-color: #0087ff\">BatchNormalization</span>)                 │                             │                 │\n",
              "├──────────────────────────────────────┼─────────────────────────────┼─────────────────┤\n",
              "│ conv2d_4 (<span style=\"color: #0087ff; text-decoration-color: #0087ff\">Conv2D</span>)                    │ (<span style=\"color: #00d7ff; text-decoration-color: #00d7ff\">None</span>, <span style=\"color: #00af00; text-decoration-color: #00af00\">10</span>, <span style=\"color: #00af00; text-decoration-color: #00af00\">10</span>, <span style=\"color: #00af00; text-decoration-color: #00af00\">512</span>)         │       <span style=\"color: #00af00; text-decoration-color: #00af00\">1,180,160</span> │\n",
              "├──────────────────────────────────────┼─────────────────────────────┼─────────────────┤\n",
              "│ max_pooling2d_4 (<span style=\"color: #0087ff; text-decoration-color: #0087ff\">MaxPooling2D</span>)       │ (<span style=\"color: #00d7ff; text-decoration-color: #00d7ff\">None</span>, <span style=\"color: #00af00; text-decoration-color: #00af00\">5</span>, <span style=\"color: #00af00; text-decoration-color: #00af00\">5</span>, <span style=\"color: #00af00; text-decoration-color: #00af00\">512</span>)           │               <span style=\"color: #00af00; text-decoration-color: #00af00\">0</span> │\n",
              "├──────────────────────────────────────┼─────────────────────────────┼─────────────────┤\n",
              "│ batch_normalization_4                │ (<span style=\"color: #00d7ff; text-decoration-color: #00d7ff\">None</span>, <span style=\"color: #00af00; text-decoration-color: #00af00\">5</span>, <span style=\"color: #00af00; text-decoration-color: #00af00\">5</span>, <span style=\"color: #00af00; text-decoration-color: #00af00\">512</span>)           │           <span style=\"color: #00af00; text-decoration-color: #00af00\">2,048</span> │\n",
              "│ (<span style=\"color: #0087ff; text-decoration-color: #0087ff\">BatchNormalization</span>)                 │                             │                 │\n",
              "├──────────────────────────────────────┼─────────────────────────────┼─────────────────┤\n",
              "│ conv2d_5 (<span style=\"color: #0087ff; text-decoration-color: #0087ff\">Conv2D</span>)                    │ (<span style=\"color: #00d7ff; text-decoration-color: #00d7ff\">None</span>, <span style=\"color: #00af00; text-decoration-color: #00af00\">3</span>, <span style=\"color: #00af00; text-decoration-color: #00af00\">3</span>, <span style=\"color: #00af00; text-decoration-color: #00af00\">512</span>)           │       <span style=\"color: #00af00; text-decoration-color: #00af00\">2,359,808</span> │\n",
              "├──────────────────────────────────────┼─────────────────────────────┼─────────────────┤\n",
              "│ max_pooling2d_5 (<span style=\"color: #0087ff; text-decoration-color: #0087ff\">MaxPooling2D</span>)       │ (<span style=\"color: #00d7ff; text-decoration-color: #00d7ff\">None</span>, <span style=\"color: #00af00; text-decoration-color: #00af00\">1</span>, <span style=\"color: #00af00; text-decoration-color: #00af00\">1</span>, <span style=\"color: #00af00; text-decoration-color: #00af00\">512</span>)           │               <span style=\"color: #00af00; text-decoration-color: #00af00\">0</span> │\n",
              "├──────────────────────────────────────┼─────────────────────────────┼─────────────────┤\n",
              "│ batch_normalization_5                │ (<span style=\"color: #00d7ff; text-decoration-color: #00d7ff\">None</span>, <span style=\"color: #00af00; text-decoration-color: #00af00\">1</span>, <span style=\"color: #00af00; text-decoration-color: #00af00\">1</span>, <span style=\"color: #00af00; text-decoration-color: #00af00\">512</span>)           │           <span style=\"color: #00af00; text-decoration-color: #00af00\">2,048</span> │\n",
              "│ (<span style=\"color: #0087ff; text-decoration-color: #0087ff\">BatchNormalization</span>)                 │                             │                 │\n",
              "├──────────────────────────────────────┼─────────────────────────────┼─────────────────┤\n",
              "│ flatten (<span style=\"color: #0087ff; text-decoration-color: #0087ff\">Flatten</span>)                    │ (<span style=\"color: #00d7ff; text-decoration-color: #00d7ff\">None</span>, <span style=\"color: #00af00; text-decoration-color: #00af00\">512</span>)                 │               <span style=\"color: #00af00; text-decoration-color: #00af00\">0</span> │\n",
              "├──────────────────────────────────────┼─────────────────────────────┼─────────────────┤\n",
              "│ dense (<span style=\"color: #0087ff; text-decoration-color: #0087ff\">Dense</span>)                        │ (<span style=\"color: #00d7ff; text-decoration-color: #00d7ff\">None</span>, <span style=\"color: #00af00; text-decoration-color: #00af00\">512</span>)                 │         <span style=\"color: #00af00; text-decoration-color: #00af00\">262,656</span> │\n",
              "├──────────────────────────────────────┼─────────────────────────────┼─────────────────┤\n",
              "│ dropout (<span style=\"color: #0087ff; text-decoration-color: #0087ff\">Dropout</span>)                    │ (<span style=\"color: #00d7ff; text-decoration-color: #00d7ff\">None</span>, <span style=\"color: #00af00; text-decoration-color: #00af00\">512</span>)                 │               <span style=\"color: #00af00; text-decoration-color: #00af00\">0</span> │\n",
              "├──────────────────────────────────────┼─────────────────────────────┼─────────────────┤\n",
              "│ dense_1 (<span style=\"color: #0087ff; text-decoration-color: #0087ff\">Dense</span>)                      │ (<span style=\"color: #00d7ff; text-decoration-color: #00d7ff\">None</span>, <span style=\"color: #00af00; text-decoration-color: #00af00\">256</span>)                 │         <span style=\"color: #00af00; text-decoration-color: #00af00\">131,328</span> │\n",
              "├──────────────────────────────────────┼─────────────────────────────┼─────────────────┤\n",
              "│ dropout_1 (<span style=\"color: #0087ff; text-decoration-color: #0087ff\">Dropout</span>)                  │ (<span style=\"color: #00d7ff; text-decoration-color: #00d7ff\">None</span>, <span style=\"color: #00af00; text-decoration-color: #00af00\">256</span>)                 │               <span style=\"color: #00af00; text-decoration-color: #00af00\">0</span> │\n",
              "├──────────────────────────────────────┼─────────────────────────────┼─────────────────┤\n",
              "│ dense_2 (<span style=\"color: #0087ff; text-decoration-color: #0087ff\">Dense</span>)                      │ (<span style=\"color: #00d7ff; text-decoration-color: #00d7ff\">None</span>, <span style=\"color: #00af00; text-decoration-color: #00af00\">1</span>)                   │             <span style=\"color: #00af00; text-decoration-color: #00af00\">257</span> │\n",
              "└──────────────────────────────────────┴─────────────────────────────┴─────────────────┘\n",
              "</pre>\n"
            ]
          },
          "metadata": {}
        },
        {
          "output_type": "display_data",
          "data": {
            "text/plain": [
              "\u001b[1m Total params: \u001b[0m\u001b[38;5;34m4,328,641\u001b[0m (16.51 MB)\n"
            ],
            "text/html": [
              "<pre style=\"white-space:pre;overflow-x:auto;line-height:normal;font-family:Menlo,'DejaVu Sans Mono',consolas,'Courier New',monospace\"><span style=\"font-weight: bold\"> Total params: </span><span style=\"color: #00af00; text-decoration-color: #00af00\">4,328,641</span> (16.51 MB)\n",
              "</pre>\n"
            ]
          },
          "metadata": {}
        },
        {
          "output_type": "display_data",
          "data": {
            "text/plain": [
              "\u001b[1m Trainable params: \u001b[0m\u001b[38;5;34m4,325,633\u001b[0m (16.50 MB)\n"
            ],
            "text/html": [
              "<pre style=\"white-space:pre;overflow-x:auto;line-height:normal;font-family:Menlo,'DejaVu Sans Mono',consolas,'Courier New',monospace\"><span style=\"font-weight: bold\"> Trainable params: </span><span style=\"color: #00af00; text-decoration-color: #00af00\">4,325,633</span> (16.50 MB)\n",
              "</pre>\n"
            ]
          },
          "metadata": {}
        },
        {
          "output_type": "display_data",
          "data": {
            "text/plain": [
              "\u001b[1m Non-trainable params: \u001b[0m\u001b[38;5;34m3,008\u001b[0m (11.75 KB)\n"
            ],
            "text/html": [
              "<pre style=\"white-space:pre;overflow-x:auto;line-height:normal;font-family:Menlo,'DejaVu Sans Mono',consolas,'Courier New',monospace\"><span style=\"font-weight: bold\"> Non-trainable params: </span><span style=\"color: #00af00; text-decoration-color: #00af00\">3,008</span> (11.75 KB)\n",
              "</pre>\n"
            ]
          },
          "metadata": {}
        }
      ]
    },
    {
      "cell_type": "code",
      "source": [
        "from tensorflow.keras.preprocessing.image import ImageDataGenerator\n",
        "\n",
        "# Directorios de las imágenes de entrenamiento y validación\n",
        "# Define las rutas específicas para cada conjunto de datos\n",
        "train_dir = \"/content/Modelo-de-deteccion-de-Accidente-4/train\"\n",
        "val_dir = \"/content/Modelo-de-deteccion-de-Accidente-4/valid\"\n",
        "test_dir = \"/content/Modelo-de-deteccion-de-Accidente-4/test\"\n",
        "\n",
        "\n",
        "# Generador de imágenes con aumentación\n",
        "train_datagen = ImageDataGenerator(rescale=1./255, rotation_range=20, zoom_range=0.15,\n",
        "                                   width_shift_range=0.2, height_shift_range=0.2, shear_range=0.15,\n",
        "                                   horizontal_flip=True, fill_mode=\"nearest\")\n",
        "\n",
        "val_datagen = ImageDataGenerator(rescale=1./255)\n",
        "\n",
        "# Generadores de imágenes con aumentación y preprocesamiento\n",
        "train_generator = train_datagen.flow_from_directory(train_dir, target_size=(224, 224),\n",
        "                                                    batch_size=32, class_mode='binary')\n",
        "\n",
        "val_generator = val_datagen.flow_from_directory(val_dir, target_size=(224, 224),\n",
        "                                                batch_size=32, class_mode='binary')\n",
        "\n"
      ],
      "metadata": {
        "colab": {
          "base_uri": "https://localhost:8080/"
        },
        "id": "qke0B2DBFzF1",
        "outputId": "24cf19c5-daae-46ad-a730-e5113e5b4ea7"
      },
      "execution_count": null,
      "outputs": [
        {
          "output_type": "stream",
          "name": "stdout",
          "text": [
            "Found 2748 images belonging to 2 classes.\n",
            "Found 789 images belonging to 2 classes.\n"
          ]
        }
      ]
    },
    {
      "cell_type": "code",
      "source": [
        "from tensorflow.keras.callbacks import EarlyStopping\n",
        "\n",
        "early_stopping = EarlyStopping(monitor='val_loss', patience=10, restore_best_weights=True)\n",
        "\n",
        "# Asigna pesos según la proporción de clases\n",
        "from sklearn.utils.class_weight import compute_class_weight\n",
        "import numpy as np\n",
        "\n",
        "class_weights = compute_class_weight(class_weight='balanced',\n",
        "                                     classes=np.unique(train_generator.classes),\n",
        "                                     y=train_generator.classes)\n",
        "class_weights_dict = dict(enumerate(class_weights))\n",
        "\n",
        "history = model.fit(train_generator, epochs=50, validation_data=val_generator,\n",
        "                    class_weight=class_weights_dict, callbacks=[early_stopping])\n",
        "\n"
      ],
      "metadata": {
        "colab": {
          "base_uri": "https://localhost:8080/"
        },
        "id": "i7Bt-LuFm_XW",
        "outputId": "6d3563df-473a-493a-81cb-90fd725942cf"
      },
      "execution_count": null,
      "outputs": [
        {
          "output_type": "stream",
          "name": "stdout",
          "text": [
            "Epoch 1/50\n"
          ]
        },
        {
          "output_type": "stream",
          "name": "stderr",
          "text": [
            "Your `PyDataset` class should call `super().__init__(**kwargs)` in its constructor. `**kwargs` can include `workers`, `use_multiprocessing`, `max_queue_size`. Do not pass these arguments to `fit()`, as they will be ignored.\n"
          ]
        },
        {
          "output_type": "stream",
          "name": "stdout",
          "text": [
            "\u001b[1m86/86\u001b[0m \u001b[32m━━━━━━━━━━━━━━━━━━━━\u001b[0m\u001b[37m\u001b[0m \u001b[1m75s\u001b[0m 647ms/step - accuracy: 0.6865 - loss: 0.7116 - val_accuracy: 0.5095 - val_loss: 1.2960\n",
            "Epoch 2/50\n",
            "\u001b[1m86/86\u001b[0m \u001b[32m━━━━━━━━━━━━━━━━━━━━\u001b[0m\u001b[37m\u001b[0m \u001b[1m40s\u001b[0m 440ms/step - accuracy: 0.8120 - loss: 0.4351 - val_accuracy: 0.5095 - val_loss: 2.1469\n",
            "Epoch 3/50\n",
            "\u001b[1m86/86\u001b[0m \u001b[32m━━━━━━━━━━━━━━━━━━━━\u001b[0m\u001b[37m\u001b[0m \u001b[1m41s\u001b[0m 443ms/step - accuracy: 0.8326 - loss: 0.3810 - val_accuracy: 0.5247 - val_loss: 1.3222\n",
            "Epoch 4/50\n",
            "\u001b[1m86/86\u001b[0m \u001b[32m━━━━━━━━━━━━━━━━━━━━\u001b[0m\u001b[37m\u001b[0m \u001b[1m40s\u001b[0m 440ms/step - accuracy: 0.8729 - loss: 0.3281 - val_accuracy: 0.5412 - val_loss: 0.7446\n",
            "Epoch 5/50\n",
            "\u001b[1m86/86\u001b[0m \u001b[32m━━━━━━━━━━━━━━━━━━━━\u001b[0m\u001b[37m\u001b[0m \u001b[1m41s\u001b[0m 426ms/step - accuracy: 0.8806 - loss: 0.3204 - val_accuracy: 0.8302 - val_loss: 0.3999\n",
            "Epoch 6/50\n",
            "\u001b[1m86/86\u001b[0m \u001b[32m━━━━━━━━━━━━━━━━━━━━\u001b[0m\u001b[37m\u001b[0m \u001b[1m43s\u001b[0m 458ms/step - accuracy: 0.9018 - loss: 0.2511 - val_accuracy: 0.9227 - val_loss: 0.1897\n",
            "Epoch 7/50\n",
            "\u001b[1m86/86\u001b[0m \u001b[32m━━━━━━━━━━━━━━━━━━━━\u001b[0m\u001b[37m\u001b[0m \u001b[1m40s\u001b[0m 439ms/step - accuracy: 0.9295 - loss: 0.2057 - val_accuracy: 0.8264 - val_loss: 0.3612\n",
            "Epoch 8/50\n",
            "\u001b[1m86/86\u001b[0m \u001b[32m━━━━━━━━━━━━━━━━━━━━\u001b[0m\u001b[37m\u001b[0m \u001b[1m41s\u001b[0m 439ms/step - accuracy: 0.9096 - loss: 0.2179 - val_accuracy: 0.8657 - val_loss: 0.3392\n",
            "Epoch 9/50\n",
            "\u001b[1m86/86\u001b[0m \u001b[32m━━━━━━━━━━━━━━━━━━━━\u001b[0m\u001b[37m\u001b[0m \u001b[1m40s\u001b[0m 440ms/step - accuracy: 0.9322 - loss: 0.1945 - val_accuracy: 0.8086 - val_loss: 0.3882\n",
            "Epoch 10/50\n",
            "\u001b[1m86/86\u001b[0m \u001b[32m━━━━━━━━━━━━━━━━━━━━\u001b[0m\u001b[37m\u001b[0m \u001b[1m41s\u001b[0m 437ms/step - accuracy: 0.9309 - loss: 0.1918 - val_accuracy: 0.6020 - val_loss: 1.2680\n",
            "Epoch 11/50\n",
            "\u001b[1m86/86\u001b[0m \u001b[32m━━━━━━━━━━━━━━━━━━━━\u001b[0m\u001b[37m\u001b[0m \u001b[1m41s\u001b[0m 427ms/step - accuracy: 0.9339 - loss: 0.1938 - val_accuracy: 0.8238 - val_loss: 0.3596\n",
            "Epoch 12/50\n",
            "\u001b[1m86/86\u001b[0m \u001b[32m━━━━━━━━━━━━━━━━━━━━\u001b[0m\u001b[37m\u001b[0m \u001b[1m41s\u001b[0m 431ms/step - accuracy: 0.9341 - loss: 0.1612 - val_accuracy: 0.9062 - val_loss: 0.2169\n",
            "Epoch 13/50\n",
            "\u001b[1m86/86\u001b[0m \u001b[32m━━━━━━━━━━━━━━━━━━━━\u001b[0m\u001b[37m\u001b[0m \u001b[1m40s\u001b[0m 435ms/step - accuracy: 0.9463 - loss: 0.1448 - val_accuracy: 0.8923 - val_loss: 0.2992\n",
            "Epoch 14/50\n",
            "\u001b[1m86/86\u001b[0m \u001b[32m━━━━━━━━━━━━━━━━━━━━\u001b[0m\u001b[37m\u001b[0m \u001b[1m40s\u001b[0m 431ms/step - accuracy: 0.9377 - loss: 0.1856 - val_accuracy: 0.9493 - val_loss: 0.1226\n",
            "Epoch 15/50\n",
            "\u001b[1m86/86\u001b[0m \u001b[32m━━━━━━━━━━━━━━━━━━━━\u001b[0m\u001b[37m\u001b[0m \u001b[1m42s\u001b[0m 439ms/step - accuracy: 0.9461 - loss: 0.1416 - val_accuracy: 0.8302 - val_loss: 0.3609\n",
            "Epoch 16/50\n",
            "\u001b[1m86/86\u001b[0m \u001b[32m━━━━━━━━━━━━━━━━━━━━\u001b[0m\u001b[37m\u001b[0m \u001b[1m41s\u001b[0m 441ms/step - accuracy: 0.9497 - loss: 0.1441 - val_accuracy: 0.9810 - val_loss: 0.0570\n",
            "Epoch 17/50\n",
            "\u001b[1m86/86\u001b[0m \u001b[32m━━━━━━━━━━━━━━━━━━━━\u001b[0m\u001b[37m\u001b[0m \u001b[1m41s\u001b[0m 442ms/step - accuracy: 0.9539 - loss: 0.1532 - val_accuracy: 0.9658 - val_loss: 0.0821\n",
            "Epoch 18/50\n",
            "\u001b[1m86/86\u001b[0m \u001b[32m━━━━━━━━━━━━━━━━━━━━\u001b[0m\u001b[37m\u001b[0m \u001b[1m40s\u001b[0m 432ms/step - accuracy: 0.9575 - loss: 0.1302 - val_accuracy: 0.8175 - val_loss: 0.4639\n",
            "Epoch 19/50\n",
            "\u001b[1m86/86\u001b[0m \u001b[32m━━━━━━━━━━━━━━━━━━━━\u001b[0m\u001b[37m\u001b[0m \u001b[1m40s\u001b[0m 425ms/step - accuracy: 0.9535 - loss: 0.1157 - val_accuracy: 0.9240 - val_loss: 0.1573\n",
            "Epoch 20/50\n",
            "\u001b[1m86/86\u001b[0m \u001b[32m━━━━━━━━━━━━━━━━━━━━\u001b[0m\u001b[37m\u001b[0m \u001b[1m41s\u001b[0m 437ms/step - accuracy: 0.9508 - loss: 0.1266 - val_accuracy: 0.9734 - val_loss: 0.0638\n",
            "Epoch 21/50\n",
            "\u001b[1m86/86\u001b[0m \u001b[32m━━━━━━━━━━━━━━━━━━━━\u001b[0m\u001b[37m\u001b[0m \u001b[1m40s\u001b[0m 435ms/step - accuracy: 0.9627 - loss: 0.1192 - val_accuracy: 0.9747 - val_loss: 0.0637\n",
            "Epoch 22/50\n",
            "\u001b[1m86/86\u001b[0m \u001b[32m━━━━━━━━━━━━━━━━━━━━\u001b[0m\u001b[37m\u001b[0m \u001b[1m40s\u001b[0m 435ms/step - accuracy: 0.9647 - loss: 0.1097 - val_accuracy: 0.9810 - val_loss: 0.0628\n",
            "Epoch 23/50\n",
            "\u001b[1m86/86\u001b[0m \u001b[32m━━━━━━━━━━━━━━━━━━━━\u001b[0m\u001b[37m\u001b[0m \u001b[1m41s\u001b[0m 439ms/step - accuracy: 0.9557 - loss: 0.1448 - val_accuracy: 0.9240 - val_loss: 0.2047\n",
            "Epoch 24/50\n",
            "\u001b[1m86/86\u001b[0m \u001b[32m━━━━━━━━━━━━━━━━━━━━\u001b[0m\u001b[37m\u001b[0m \u001b[1m43s\u001b[0m 460ms/step - accuracy: 0.9485 - loss: 0.1313 - val_accuracy: 0.9265 - val_loss: 0.1830\n",
            "Epoch 25/50\n",
            "\u001b[1m86/86\u001b[0m \u001b[32m━━━━━━━━━━━━━━━━━━━━\u001b[0m\u001b[37m\u001b[0m \u001b[1m81s\u001b[0m 446ms/step - accuracy: 0.9636 - loss: 0.1003 - val_accuracy: 0.9886 - val_loss: 0.0278\n",
            "Epoch 26/50\n",
            "\u001b[1m86/86\u001b[0m \u001b[32m━━━━━━━━━━━━━━━━━━━━\u001b[0m\u001b[37m\u001b[0m \u001b[1m83s\u001b[0m 440ms/step - accuracy: 0.9663 - loss: 0.0961 - val_accuracy: 0.9747 - val_loss: 0.0753\n",
            "Epoch 27/50\n",
            "\u001b[1m86/86\u001b[0m \u001b[32m━━━━━━━━━━━━━━━━━━━━\u001b[0m\u001b[37m\u001b[0m \u001b[1m43s\u001b[0m 464ms/step - accuracy: 0.9636 - loss: 0.1033 - val_accuracy: 0.9556 - val_loss: 0.1293\n",
            "Epoch 28/50\n",
            "\u001b[1m86/86\u001b[0m \u001b[32m━━━━━━━━━━━━━━━━━━━━\u001b[0m\u001b[37m\u001b[0m \u001b[1m41s\u001b[0m 444ms/step - accuracy: 0.9670 - loss: 0.1074 - val_accuracy: 0.9823 - val_loss: 0.0437\n",
            "Epoch 29/50\n",
            "\u001b[1m86/86\u001b[0m \u001b[32m━━━━━━━━━━━━━━━━━━━━\u001b[0m\u001b[37m\u001b[0m \u001b[1m41s\u001b[0m 443ms/step - accuracy: 0.9693 - loss: 0.0875 - val_accuracy: 0.9911 - val_loss: 0.0250\n",
            "Epoch 30/50\n",
            "\u001b[1m86/86\u001b[0m \u001b[32m━━━━━━━━━━━━━━━━━━━━\u001b[0m\u001b[37m\u001b[0m \u001b[1m40s\u001b[0m 441ms/step - accuracy: 0.9688 - loss: 0.0821 - val_accuracy: 0.9772 - val_loss: 0.0649\n",
            "Epoch 31/50\n",
            "\u001b[1m86/86\u001b[0m \u001b[32m━━━━━━━━━━━━━━━━━━━━\u001b[0m\u001b[37m\u001b[0m \u001b[1m40s\u001b[0m 435ms/step - accuracy: 0.9632 - loss: 0.0961 - val_accuracy: 0.9835 - val_loss: 0.0438\n",
            "Epoch 32/50\n",
            "\u001b[1m86/86\u001b[0m \u001b[32m━━━━━━━━━━━━━━━━━━━━\u001b[0m\u001b[37m\u001b[0m \u001b[1m44s\u001b[0m 462ms/step - accuracy: 0.9724 - loss: 0.0913 - val_accuracy: 0.9734 - val_loss: 0.0691\n",
            "Epoch 33/50\n",
            "\u001b[1m86/86\u001b[0m \u001b[32m━━━━━━━━━━━━━━━━━━━━\u001b[0m\u001b[37m\u001b[0m \u001b[1m79s\u001b[0m 442ms/step - accuracy: 0.9679 - loss: 0.0867 - val_accuracy: 0.9861 - val_loss: 0.0445\n",
            "Epoch 34/50\n",
            "\u001b[1m86/86\u001b[0m \u001b[32m━━━━━━━━━━━━━━━━━━━━\u001b[0m\u001b[37m\u001b[0m \u001b[1m41s\u001b[0m 440ms/step - accuracy: 0.9719 - loss: 0.0792 - val_accuracy: 0.9772 - val_loss: 0.0593\n",
            "Epoch 35/50\n",
            "\u001b[1m86/86\u001b[0m \u001b[32m━━━━━━━━━━━━━━━━━━━━\u001b[0m\u001b[37m\u001b[0m \u001b[1m41s\u001b[0m 432ms/step - accuracy: 0.9808 - loss: 0.0639 - val_accuracy: 0.9772 - val_loss: 0.0759\n",
            "Epoch 36/50\n",
            "\u001b[1m86/86\u001b[0m \u001b[32m━━━━━━━━━━━━━━━━━━━━\u001b[0m\u001b[37m\u001b[0m \u001b[1m41s\u001b[0m 429ms/step - accuracy: 0.9725 - loss: 0.0817 - val_accuracy: 0.9024 - val_loss: 0.1883\n",
            "Epoch 37/50\n",
            "\u001b[1m86/86\u001b[0m \u001b[32m━━━━━━━━━━━━━━━━━━━━\u001b[0m\u001b[37m\u001b[0m \u001b[1m43s\u001b[0m 459ms/step - accuracy: 0.9645 - loss: 0.0951 - val_accuracy: 0.7643 - val_loss: 0.9561\n",
            "Epoch 38/50\n",
            "\u001b[1m86/86\u001b[0m \u001b[32m━━━━━━━━━━━━━━━━━━━━\u001b[0m\u001b[37m\u001b[0m \u001b[1m41s\u001b[0m 445ms/step - accuracy: 0.9796 - loss: 0.0683 - val_accuracy: 0.9797 - val_loss: 0.0717\n",
            "Epoch 39/50\n",
            "\u001b[1m86/86\u001b[0m \u001b[32m━━━━━━━━━━━━━━━━━━━━\u001b[0m\u001b[37m\u001b[0m \u001b[1m41s\u001b[0m 445ms/step - accuracy: 0.9797 - loss: 0.0713 - val_accuracy: 0.9810 - val_loss: 0.0476\n"
          ]
        }
      ]
    },
    {
      "cell_type": "code",
      "source": [
        "# Evaluación en el conjunto de prueba\n",
        "test_loss, test_acc = model.evaluate(val_generator)\n",
        "print(f\"Accuracy en el conjunto de prueba: {test_acc:.2f}\")\n"
      ],
      "metadata": {
        "id": "hn09p4CIGoon",
        "colab": {
          "base_uri": "https://localhost:8080/"
        },
        "outputId": "ab90431a-f15b-42f1-f27f-d9b422e159ba"
      },
      "execution_count": null,
      "outputs": [
        {
          "output_type": "stream",
          "name": "stdout",
          "text": [
            "\u001b[1m25/25\u001b[0m \u001b[32m━━━━━━━━━━━━━━━━━━━━\u001b[0m\u001b[37m\u001b[0m \u001b[1m3s\u001b[0m 122ms/step - accuracy: 0.9919 - loss: 0.0213\n",
            "Accuracy en el conjunto de prueba: 0.99\n"
          ]
        }
      ]
    },
    {
      "cell_type": "markdown",
      "source": [
        "![image.png](data:image/png;base64,iVBORw0KGgoAAAANSUhEUgAAAvgAAAA9CAYAAADYmB3NAAAAAXNSR0IArs4c6QAAAARnQU1BAACxjwv8YQUAAAAJcEhZcwAADsMAAA7DAcdvqGQAABtKSURBVHhe7Z1/aNznfcc/a+au69FNorVmsBZ6LagMtLIqELUQBroZ6mxWYJZF5kBkEROKNIrtxmR1QneIEDyyDjnJYo2NBFmBpuOilFqGeOCd/il0Co062htbBO11mQyZwtBt4baubtk+n+fH957v7+/37mSdz++XOXzf0/ee5/k+P9/P5/k8z/3S5z//+f8jAAAAAAAAQF/wIfM/AAAAAAAAoA+AwAcAAAAAAKCPgMAHAAAAAACgj4DABwAAAAAAoI+AwAcAAAAAAKCP6N1TdA6dpucuHaXiPQ3avPw4XVw3nwMAQL9yrEzLp0Zpd32azl02nwEA+p/5RapMDJsL5maVps8umQsA8tOzFvzRh8dY3POb92q0BnEPALgLmLyvSIVmjaptivu5SxWqLJdp0lwDAO4QLp+j6elpfq1QrWk+A6ADOrDgD9EDD8/Q1BfHaPhjB/RHt5q0/d1v0gsvXqe6/oQmy8s0M1owVy5Nql2ZpYVr5tJHiS78zRyNDRDV3/xjevKVHf3xoQfo5KNT9MXPDVPBRvnBNm1UXqDn37QxthsnAKBdotqctM0frr9KF1/dNJ/sEcbqXYht33O0WCmRYxuj7ZCFPHyPJXzvXqHTMFhbodmFNfNZPkTglwZqtDK7QO2FAEA6qp4dNhdMs9M664QV2d68Nt4iMs7QfdtUnT5HPjt46J5e0wWTVF6eodFG/1rwQ+NFJ6sVWcrcoRV30n2t8cBXzyLqoY8eW3Vp24I/fqZMZ06Mt8S9cKBAw797mp76k5L5oE1O/B79Not7+ukW/YMV9zROZ/70DB2/vyXuhQMfG6YHHnuKLkyYDwAAPYG0zbGH5vawbcpAWKHKCaKNWJOX7qiJRYO2jk3TCt87PFGhxXlzi4N05vY++7ptrjLzIzygNKn+NqQ56FV0mysdFnFk2sj6NhVGZ2i5nHfdyIQlE1Ib1pUaDXLb9IUlrissqsRtzWuXUXGa+8hrw2IJH6ZSZZF7AYMSaEWqX2mFVb1ZoNFTy1Q+Zu4Be4pM6GakmGwZcJk3D5eocskrpexkKXMXLv+pSOOvn7lL0cYeurZAs6be+F7yDPzn7a3empC1b8E/xI3zmYeo8L2rtPLtNaoVjtL5J07T+EH+2wc1evmxBbrOb+1sKfsMf4hO//lLdPSTRLf+5TV65GtvmM/5Lw+V6dnJAm2urdDq1RoVHjxP50+N09A9PDD/4GWafUZibCdOAEA3KU6cofNfekC1Tb9FrkhHvzxHU/cVacD0s1GrcFmQgWJ8V7dx3eZl0MhiiTPWGZ+1JYP1XPnIElWvNGhcWXFE5FRpSKxt8iwB600+K1WK1S7JSpVmVWoGLfomLu8LQQtma1JUPeg+Q7Jl7LYRet44C2zac1pa1jqN/zkjV0VMGlp7JZzyuzHkS19oHMqc/nAdaoVl0hwqW8b4cseuUkV9Jysq7MFQenU6d3PVj7jvaIt+qwwi8z/UXuLaT4Z2bcpDRGLsPbeVuGdpka1vCdbrmHoWqo/x7VyXTXx9TSXUbgwx9SqZ/GVu61K1XqRSXH310lglmsi2ohqss73CL5v/8/PeGi087j70dXrn3/+IBT5Xkw8ROUb2fPDE4TO/KW8a9MNqS9wLO1cX6PGr5kJ48x3aeZgFvtTMD7UdYwyfok888zvxg6bl5z/nXEzPxv/9T6Jf+XVzEcst+gXnnGw9SOS/f0b00Q+bi3g4ZekF/D//RT//1V9Lv4+jpNQof8b/Ppx+G/LMoYfz7N/+kf71r39sLvJQpMEB2x6b1HjXvGUmv1ammc/6W5VahXt4hn78Zj7RsXR2eh8600EalxUDFvYjPIiML08R1VdohaZ4wB3hoYXTxS89AGsrlR2w5LPF+aXoFYFjY1TkbNl+K+KJHAEybQca+ezSHOcB3y9WJRNHtBhyMYO+CIJZHZdKq1gwyT+4yirHjIjBaQlLD6al5TJttysOuwKnn/N/dXraS4N65mD6rWjx0i/wM1wq0yTnl5d+I4b9AonjEGtijLhKRCyRp0QAmXJX4c9wua+Zcs+YfiteCk5Y8ml5kcrHeOy9tkTV2jjXsSKNHSNac8ptbkQk3TZtBeuZWiFiCuHvZEWFzXm66fvuHIsladMFGpFVsaj6HcHwIH+nWeeU+lna2maxNEhDYlG38RQGAhbVYWUgaNbNt2Paz2R5XH+vOMY5utYq9zsWWy9ETM6a/k+36crykNPunXbu1mvZn+PW/7S+xcccjShXqgIV75vkssmfm2qPEZf4hq+O8DPdr0s3V7h5y5zbop6cLND2fcvmwyCclhPcb3C+zXIaF7OsPnN+jXO+NGvVnhL3Qhc32Y7Spz4hjZxp7NCGfuchy2mVSoUq3/wGLf/Vc3TmwaL5i59cm2s/+ykt7pnd94MxZo8TANAFRMxIe6s8Rxce4Yk3T9K3rr7giJajNCY9MnNr6w16UpY2v7xAS9/aoO2GzIZuE8eGWKZzh7wblBZOn2FeYTceTn+91ZEXqE6rnnXHiBLGihdXCK0tzEaLeyZxc+29AxxPwHVHRH0bAlQPfiwOnO+uLaxSrVmg0SOBRW2fpZdF5VucX0Yc7h88QQpMMJZuyPK4ER2GuSNG3Pvu5Wc4614bYRGyfnIcbeStRgsvr85f3lICdvCgTVu29NN8yYh7/6RrbeGcd732dj38PSPCIsWGSUuwXmZnkobEdZbHdy/9IgZZSNJ6NfCc6WzvNrk+BYW7pUAD9+p3S2cl7GEqVawbjRGvXL5e2zNtxDUmyMRppljniVBSPIz6rmgIt1R6FK9euJZirlPr0jZHqWT7K9PH+V1GwnUvX9+yRFs35f/23Qh1v9jQ9VAhZTlDRe5TVTENxpZSmFxlzvHwRL5ZW/W1pyCT5Sk9ecrR/lVfw0+0kWLl3w+6JvDH5k/T+CF5x5XvxhJZz/kQ9xygwseL9MBjZSo/NGQ+tJRoclR/Vv/+a1RT7+IYo7nHREQwH8jAGBtjSpwAgD3hngEa+YM5p81dp/p/6HcHRo7TszzpvvD7I9TY+DoLqov+gWfPMBaa0CDFg5/1pzQv66vv9y0OfM8VOw5avIzSTKYTbbQFtFnfjM6Ddxscazf8hCf1BOvmliMOhDXaafB/A0O+tIbSY9JhhVfPcG2Hds1bjRG5cflpsRbAbvrN+sSLoOtV4hJ/KP38BMpSniLEr21SXaqZslQaEvdxmDoeFHltIis/lVMDtMFhxk1ck9ATFBbuPt9rLcT86HRrX3mZeNsVqLjnENGo3ffkHn95BLHxRax49CB6dWaXdoL1IjiRNHUqbq+RR86+RVZNp90JbCcog9A4Na5I+0gupXSSy9waNpJFuOmH81jie9h6L3TlHPwxLqjz3EgOSMfy5gv05Ctxp2YUaewPp+j0NAtzWcF/lxvpE062nHiWvvHwCB346Ra99ujT5HfQcWFx/xfnqXQvB8Kd4PW/fJJe/p75U4iUOAEAXWaIRo9M0tTDR2nUbJb32vOnj9OFJ07Q2EG/S13zR9fpha++TO2et9NyiUkafOzyNg/nIf/kKMz9ZCzBMiB5fqIyoLSWwCPjV/c7YiVkKTao+yjFf9PEZ65EkETdn+yiEwwjgGfx1veFfE/Ncn7+M/pb+e7S7ulEOq8DgTGef3rWdPrK03wWQWSehuII1BV1UzSp6bdhJfhgewSeQaWVMnyvLVrpqnIs/jyJqTNpmHxs5QbX63Wikq9cbL01dd77jrPCYfNhvU7FCX/Z6/yO8re24YZXSjITSr8Q3TazE1/+8e3bPIuvjwm2u7jntPlg6TT98dj0h33gc9R5S9Yyj+gPoupEOG/T67T6Tg/63ls6tOAP0dGvvKTF/S/0cny8uBfqtPmtr1PNGtt9TsBDdHqcxT2/a/zz38eL+0NH6fyLRtw3tmgtUdwLSXECALrPDtVuvEwL3zd2lI98lH5DvyP60Rt0cf4Rmv7qRXrtzU2qN26pjwufPkqPzu/t6trcJT3YiZBKFH4exrKdtLyfhHeutVgf+TrypAge2JSbSNCqHsRZYZDleE5R7EkRsWxTo8n/iQiwYbmvFGHaPmu0MBuOL1sZ+LHiWCYHrbC0e4iHsV6muovsw4pEpvTbehdYUYlEWW6tm45eudi7kzxMurgeq0mEW1+MS0huNxdxB/HyQV7naPugCslYqUX4OeLe+47kWYFGT5gVMmuJntAn5Lh1K+wWIthwOb/W2xT3Qij9+hn2S+z53Q6ddqdOeYmz1Hejb8mGXdksFeu04ssns6ciwm0ylkxlzuVsfOoT+xueLCj//Ndz9IE8cehl673QgcAv0vHys3T6C0N0QFnRn6an0867PsQF+9izKlOExs47+o3w2ZM09kl5w+LgWlV9FOLTx6n8jLgCHaDmT67T8197mlYSxT2TFCcAYA8YotEvHKfzv2VkvTe4TtKFS4tU/tJxGqNNeuOVi/T15zc8d77Bj4+Zd91HW1qkM85jYTSbylLFdzqytK1EflC0teMmIhMHNRC3fP4tyX7NOYRjBHaD3P65MhgXo7i9Ch56IuNzXYnCujGM5JcyOi/ykjX9thyz7HeQzbYsc+RZlXtOUvmIRbLS0Q+hyQZYfgDlhusSWzfEyporTp1HLdGkhV9YoJvJqq3rxl2Jbm4ExHqUu5axFku7c6y6dwIq/6PqRdoRuzIRMSI/cUKb0LcI0o9WvL0Q+dFuWZzvbwWEdGz6paxi9kNlKXPTvyrjitRD89IraMM8kZHrRXpeuT7JBKh1j3IFk0/NvqzgMbC97HtvaVvgH33qKTqp1t8ZrnBHz7zkZIwtjFbhqNeLZZp7cER3jB/U6OorLSFfOjaq/el/skmv/UB9FOAoXfjqSb3kzxQ+eZTOvOiE7c04s8cJAOgGgTZXeYnKXzmpJuJyYs/2d1e9zvzDA8M0euQkXfgzfe9L5Qd0u6cGvfMdfcxtt2lP3MszGcthbncH+W7QAmYmCwGffbsZNEnwidU3OLjF+eKuva8kK43HnEmuNnTK3oDQSkIKx/T50ftrrbIrKo7AkeV3n3uBYDcEB5+Ty0VO0TFXVhzL4O8fvFkIO98Lim1rhc9P1vTznQsbXPNEcPjrkT5Fx1wYlGiSZ52QTYQJ5RM4RactLstmSE6XtZwLLOL1qkTYcq3rKZMlTpUX2k2j1U7Nxk6x+rptQG025f+9ybcpcy7LVlsxbdjdjKs+uzPFvSIq/6W+iiugK3S5TIKCVE/CAqea5ehbJB7Vh3Eo/o3dOeCJxgaX5/CEU6+l3FXdjdgAawU6E56IZyjzyBUWvb9KJon6txzO0Rm1tyD40itrMm7ItW/s4DT3uvVeaNsHP62T042n1Zgst2Qm/k9Vuvrqa/Sd98yHdJyeffUkjXzkFm397SP09OvmYx/hsPzYJbyscQIAukNE27x1i5o779DG363QknO+ffHBOZr54jh95lCBDoi73C/4vsY2ff/bS7nPwU/sg7iDV76UMniEfGRbeIN81H1Bn3nr86n8WI3fqrlHp8X1wTd/V1/UhCcY+p7s5yybC8E+n7l0CeVL6N5w2oSW4En7+34SrGvS72+pI0vj9gy0ciLGB1mVq/u0jjuIwZf/Kj93qMRxym8F6Dwx6Ur1wc+R/oh2FT1Jtfel+ZKbck2oO9kIpyu2bti8jYwzWM/i0x+q/0xkXgTLMhhvqKxd0vJvb4l6Ros/f7PVi3D/GK7XQp6+Rd/beT4F44yu10LrWVPrmCVD/dZ5E3MOvkd8/9ytfNhrurLJtlOGHnuOXpIjLBubtPT4RYKNHQDQ96iBKW1z7X4QP7CBXsSIoAwbfAEAdw9dPAe/XUbp5Of0+fQ7tTWIewDAXQCLskybawFIwfvBH4h7AECLnrDgAwAA6BVgwb9zMG4uQXcyAMBdTw9Y8AEAAACQGdlfoDa0Q9wDAKKBBR8AAAAAAIA+AhZ8AAAAAAAA+ggIfAAAAAAAAPoICHwAAAAAAAD6CAh8AAAAAAAA+ghssgU5CP6CXu//klsi3i9dRv/CX39hyq5xt524gSMfAQAA3H3Agg9ysEYLs9M0Pc2v9W3zGciC/LR1ZbnMMhsAAAAAYG/pgsAXC5mcx1uh5TLkC7iDuLZAszJZ6XvrPehdWv2nfi1T+Zj5U25klSZDWPOLzj36tThv/gYAAKAv6Fzgz4/QMG1TrdakQnEMFkoAAMiC+rEi80NFaqI5TdWbBRo91Y7Il4mCccEyYU2v73JYfvE+WV6mysQg1a6Ye/i1wn338AREPgAA9BMd++CL60GJeFC5MUTLp4pUj/HJloFlpuW8Tc1In9hkH28dxm7AXzrsY9u6r0pDbnjNGq3MLlAr1mB8celixOo1MWwuGO/XA20YEX7cxseb2vL/1c/VijEYvv47rbMoOOjmbSf+5GlxOqj8EKHQqQ9+cplbVD07bC6YYDn566H41Wu2OX/OXTYXoeczBOpF1nqWGqfn4x9DqD4G09fZHodgnilCv3qZo8wTUHlWrPPz7FDJCS9YTpnapsm3XV/ZmecZSGvDwTxrldsqTaW0kxz9gS3bDn5FNPF5cu6VSAyL7OdxYYfrNgAAgDubDi34czTCAmJ7iweLa5tUbxaoeF/Qhi+DSoUHVta5jtVolaWRz0qlrFlmMDL3TE+vEh1p1295mIXGDBXrKyasKm0XRmnm0pz5uwyKU0Svt9IkfuWF0ZmQq5EMniLuRbh5926NGIvXGi28Jf7owzQSsIBN3ldkcdek+ts5B02VF3rAtfFVb8rzLHKO+xHL28zghrlvhWpNvq8dX+8ccXaNTGUu4sOIF3vPlRoRl1PFKUvF4RJVTg3QhrlPWyZda+gSnbNhmFf1pvlTuyTF6bkAmXhExJpr9XLFmHKb8Of/ijxmwAKbDd3mfHmm6ob5s6XbZS7ti8OTSacKz7SncPoljuS2mQ2pG0awmvTrPIuwgBdZ3MsERN0X3U6y9geCbtvM4ZE224fuO5v1TUeQM/MlPcHIFe4kDQ3wf40df1h8tVnnQi8MOBM4ZmDI3z8cG6JB/m/3fYh7AADoFzoT+MY9Z0tZ2dZop8FjSdBNRw1YYUvk2sI53/XckVEqhCyaLJ7Putf5EEHeskgt0ZaILGdwWzobsI5erioR5HsGFkHjMokJWBPp8rnW9eUtzgWWLSPukDxJY0UeqW9u5LbA2rxYdaxpS2dZBHFujwfFhuSZZ42LGdAzkCvOLpGlzCfL46qOVd17WDivSkEdHg8IOalnLavs2tt1/qRAA/eaD/aEbsTJgvx+LrGbVZ8FdW1hVdXH4ftzTthsm3s9ue3sRZn72olpT/52oUlrm1nw6oZjjdZ5VqDRI/44CySrCzY/zKScJxUlZ/KRqT8w6HJmbm55ZZ+LCFEtqxuVCaKq2sA+SEPBSUosuu+Nzz8bFj/36zVqqomYmcTJJM+sRPj6NwAAAHc0HQn8uRERJa0BbmlLBs0ijTkDk7qnWafNRJEbY83qiCY13jVvDUtnp/1W0xBmoHTQljo7iYnDCBTX6nZsjETfq9WNXMTlxTY1RGwM+qV7d/IsX5zdIUuZm0lSs8Ep8RMppFPr2R7QjThNXWnuhp6yrQlbZ22ukzIPtpM44dlO2wxiJ9BBgR0dZ+g5320ogT54MGlKEe4PPOzqTJvuOX7MKqdaicvvHiXovneUptyJGYv3KdffSFDpNisYssGWxb24EHbnOQAAAPQKHQh8IxBcUaIs2a71LG7pOMB+LRErFwX/aRJBn+XhwWiBGWTpRo0FQ8tNR00MmjWq5rWKmbwQ1wA3XRVxRQiM1V1jH+PMVOYJ9SdZoN1ZxOdFHmtuRvajzLvKMA1IOsVFypf+cBuO5NoO7Zq3Hhn6g+6j3YyUu1InIvvyOc+lyEv/CaINWYLgJ92xkz31jI5bnPedPXTFAwAAcNtpX+Ar95ygQDCb6zxLdtrSscEMtrdVrDlL057PLb+CPtnbuxktqGoPgnVH0NbFtqzrJi9kc5+bLu+1F5a2fYyz0zK/O/yGHYHWLfajzLuKXmlQm4aj0p+2GhCcYGbsD7qGyf/hCb1nwXXNmjyoUpa/zEXkO2mXPCCfgYInE/KMrlucfOeKNk6Ucu+BAAAA0Ku0LfC1G4CxArkv5T/asmRrgex32wlj3AIifF1TMRONvNgNsLUbyUJm7X01DIc20IYxfr0yuVEuF21srlXspVtMHPsYZ2KZGxeViA2H2Vynukib9cySOFH0TQ5d4txQkomMy27e9LgdZZ7FDSsrOqwWGY0HMdj2b12FsvYHHtba37YoNm59oVW+hDK359dn3kSv82z7LSPmzaQmtCJmJhvt5iUAAIDeo02BnzBwBzacri1s8LWc7exfAp4sLzobJFub3vwnaUxS+VJrMAuJ7eDRlTnQYbmn/piTR4JL8najoO80FobjDp0Oop59mErKEph/c63GThRKt/GHw/YxzrQyV/WH89S9h8WV+BY3a9W2/JXT6GY9s9gwozevtvLfrVOT5Sm9WTar6DTo/QlOXCJGJwapyfW4xd6X+dwlWdHbpg3HOp0Ja932Jjz6GMdgCSi3uFD9yYBXf1a9Npq5PzDoCQGT67QbPzb9rt/83CVxkfJvHLYoo4qQajBhnFOZvM2zZiIZ3JyuNyt3ayIGAACgF2jvHHwleOLPQNfnb7vnTMtg6fftjTxf2i6Tm0u+KxSHPkfb3iFx6PO0xYfVhqfvkWM5o9Nn8YfFoa1P09YIpz10nrR9JnMhyFJ+1CBs7gudupOXUF4Ibn5o0SMDuG953ztnvI3NemlxRv7d4C775yFDmdtndQVeMH8jzwE3YQfPU3eJ/B6TpZ7ljTNY30J5FppIuG0oJ76wdDgk6ZVz+916m1bmGQk9mxBRJ/R96W0zmC4pb/V7D+qsfTfMaPHv1o9Q22Wi2mfwGeSeuP7AS19MP5CZUP4nlLkt06i2ljmccF8sROUHAACAO5eOf+gK+NFiogNhBm4rcQIf5EOL4zYnlgAAAADoKh0dkwmCGNelPXIdAd3G+HWnnfIEAAAAAHAHAYHfNWTpu0TDTf8PB4EeYt6/b0L7Hjdz+7gDAAAAAPQyEPgdIz7AckSoOVsarh69y+VzyqfaHuuayRccAAAAAOAOAz74AAAAAAAA9BGw4AMAAAAAANBHQOADAAAAAADQR0DgAwAAAAAA0EdA4AMAAAAAANBHQOADAAAAAADQR0DgAwAAAAAA0EdA4AMAAAAAANBHQOADAAAAAADQR0DgAwAAAAAA0EdA4AMAAAAAANBHQOADAAAAAADQR0DgAwAAAAAA0EdA4AMAAAAAANBHQOADAAAAAADQR0DgAwAAAAAA0DcQ/T/Vdq7aJSIr9AAAAABJRU5ErkJggg==)\n",
        "\n",
        "Accuracy 1"
      ],
      "metadata": {
        "id": "8DLYqoykelsq"
      }
    },
    {
      "cell_type": "code",
      "source": [
        "import numpy as np\n",
        "import matplotlib.pyplot as plt\n",
        "from sklearn.metrics import confusion_matrix, ConfusionMatrixDisplay\n",
        "\n",
        "# Supongamos que tienes las predicciones de tu modelo y las etiquetas verdaderas\n",
        "# Genera las predicciones con el modelo entrenado\n",
        "predicciones = model.predict(val_generator)\n",
        "y_pred = np.round(predicciones).astype(int)  # Redondea para obtener etiquetas binarias\n",
        "y_true = val_generator.classes  # Etiquetas verdaderas\n",
        "\n",
        "# Calcula la matriz de confusión\n",
        "cm = confusion_matrix(y_true, y_pred)\n",
        "labels = ['Normal', 'Accidente']  # Etiquetas de tus clases\n",
        "\n",
        "# Dibuja la matriz de confusión\n",
        "disp = ConfusionMatrixDisplay(confusion_matrix=cm, display_labels=labels)\n",
        "disp.plot(cmap=plt.cm.Blues, values_format='d')\n",
        "plt.title(\"Matriz de Confusión\")\n",
        "plt.show()\n"
      ],
      "metadata": {
        "colab": {
          "base_uri": "https://localhost:8080/",
          "height": 490
        },
        "id": "jMdZCnzm163z",
        "outputId": "5e88dba5-6a0e-4e4f-8d03-6829328ba320"
      },
      "execution_count": null,
      "outputs": [
        {
          "output_type": "stream",
          "name": "stdout",
          "text": [
            "\u001b[1m25/25\u001b[0m \u001b[32m━━━━━━━━━━━━━━━━━━━━\u001b[0m\u001b[37m\u001b[0m \u001b[1m4s\u001b[0m 132ms/step\n"
          ]
        },
        {
          "output_type": "display_data",
          "data": {
            "text/plain": [
              "<Figure size 640x480 with 2 Axes>"
            ],
            "image/png": "[encoded data removed]"
          },
          "metadata": {}
        }
      ]
    },
    {
      "cell_type": "markdown",
      "source": [
        "![image.png](data:image/png;base64,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)\n",
        "Matriz de confusion 1"
      ],
      "metadata": {
        "id": "FwuBORm9eMWJ"
      }
    },
    {
      "cell_type": "code",
      "source": [
        "from sklearn.metrics import recall_score\n",
        "import numpy as np\n",
        "\n",
        "# Hacer las predicciones\n",
        "y_pred = model.predict(val_generator)\n",
        "y_pred = np.argmax(y_pred, axis=-1)  # Si es clasificación multiclase, toma la clase con mayor probabilidad\n",
        "\n",
        "# Obtener las etiquetas reales\n",
        "y_true = val_generator.classes\n",
        "\n",
        "# Calcular recall\n",
        "recall = recall_score(y_true, y_pred, average='macro')  # O 'micro', 'weighted', según lo necesites\n",
        "\n",
        "# Mostrar resultados\n",
        "test_loss, test_acc = model.evaluate(val_generator)\n",
        "print(f\"Accuracy en el conjunto de prueba: {test_acc:.2f}\")\n",
        "print(f\"Recall en el conjunto de prueba: {recall:.2f}\")\n"
      ],
      "metadata": {
        "id": "0KXTae89LKwt",
        "colab": {
          "base_uri": "https://localhost:8080/"
        },
        "outputId": "f620ae7e-caad-4f57-8bbc-b8b231fe10d2"
      },
      "execution_count": null,
      "outputs": [
        {
          "output_type": "stream",
          "name": "stdout",
          "text": [
            "\u001b[1m25/25\u001b[0m \u001b[32m━━━━━━━━━━━━━━━━━━━━\u001b[0m\u001b[37m\u001b[0m \u001b[1m3s\u001b[0m 127ms/step\n",
            "\u001b[1m25/25\u001b[0m \u001b[32m━━━━━━━━━━━━━━━━━━━━\u001b[0m\u001b[37m\u001b[0m \u001b[1m2s\u001b[0m 91ms/step - accuracy: 0.9796 - loss: 0.0449\n",
            "Accuracy en el conjunto de prueba: 0.99\n",
            "Recall en el conjunto de prueba: 0.50\n"
          ]
        }
      ]
    },
    {
      "cell_type": "code",
      "source": [
        "# Generador de imágenes de prueba (sin aumentación, solo reescalado)\n",
        "test_generator = val_datagen.flow_from_directory(test_dir, target_size=(224, 224),\n",
        "                                                 batch_size=32, class_mode='binary',\n",
        "                                                 shuffle=False)\n"
      ],
      "metadata": {
        "colab": {
          "base_uri": "https://localhost:8080/"
        },
        "id": "gN65NBQhIbJs",
        "outputId": "a82c459d-cd73-4ebc-cc20-94ddd8570bae"
      },
      "execution_count": null,
      "outputs": [
        {
          "output_type": "stream",
          "name": "stdout",
          "text": [
            "Found 403 images belonging to 2 classes.\n"
          ]
        }
      ]
    },
    {
      "cell_type": "code",
      "source": [
        "import numpy as np\n",
        "from sklearn.metrics import recall_score, accuracy_score, precision_score\n",
        "\n",
        "# Define tu umbral personalizado\n",
        "umbral_personalizado = 0.4\n",
        "\n",
        "# Realiza las predicciones en el conjunto de test\n",
        "probabilidades = model.predict(test_generator)  # O usa X_test si es el caso\n",
        "\n",
        "# Aplica el umbral personalizado para clasificar\n",
        "predicciones_personalizadas = (probabilidades >= umbral_personalizado).astype(int)\n",
        "\n",
        "# Obtén las etiquetas verdaderas del conjunto de test\n",
        "etiquetas_verdaderas = test_generator.classes  # O usa y_test si es el caso\n",
        "\n",
        "# Calcula las métricas para evaluar el rendimiento del modelo con el umbral personalizado\n",
        "recall = recall_score(etiquetas_verdaderas, predicciones_personalizadas)\n",
        "precision = precision_score(etiquetas_verdaderas, predicciones_personalizadas)\n",
        "accuracy = accuracy_score(etiquetas_verdaderas, predicciones_personalizadas)\n",
        "\n",
        "print(f'Recall con umbral personalizado de {umbral_personalizado}: {recall:.4f}')\n",
        "print(f'Precisión con umbral personalizado de {umbral_personalizado}: {precision:.4f}')\n",
        "print(f'Exactitud con umbral personalizado de {umbral_personalizado}: {accuracy:.4f}')\n"
      ],
      "metadata": {
        "colab": {
          "base_uri": "https://localhost:8080/"
        },
        "id": "Tn08HOt7H4N1",
        "outputId": "6326b122-d94a-422f-86f7-4737d8ab727c"
      },
      "execution_count": null,
      "outputs": [
        {
          "output_type": "stream",
          "name": "stdout",
          "text": [
            "\r\u001b[1m 1/13\u001b[0m \u001b[32m━\u001b[0m\u001b[37m━━━━━━━━━━━━━━━━━━━\u001b[0m \u001b[1m1s\u001b[0m 128ms/step"
          ]
        },
        {
          "output_type": "stream",
          "name": "stderr",
          "text": [
            "Your `PyDataset` class should call `super().__init__(**kwargs)` in its constructor. `**kwargs` can include `workers`, `use_multiprocessing`, `max_queue_size`. Do not pass these arguments to `fit()`, as they will be ignored.\n"
          ]
        },
        {
          "output_type": "stream",
          "name": "stdout",
          "text": [
            "\u001b[1m13/13\u001b[0m \u001b[32m━━━━━━━━━━━━━━━━━━━━\u001b[0m\u001b[37m\u001b[0m \u001b[1m3s\u001b[0m 203ms/step\n",
            "Recall con umbral personalizado de 0.4: 0.9857\n",
            "Precisión con umbral personalizado de 0.4: 0.9904\n",
            "Exactitud con umbral personalizado de 0.4: 0.9876\n"
          ]
        }
      ]
    },
    {
      "cell_type": "code",
      "source": [
        "# Generador de datos para el conjunto de test\n",
        "test_datagen = ImageDataGenerator(rescale=1./255)\n",
        "test_generator = test_datagen.flow_from_directory(\n",
        "    test_dir,\n",
        "    target_size=(224, 224),\n",
        "    batch_size=32,\n",
        "    class_mode='binary',\n",
        "    shuffle=False\n",
        ")\n"
      ],
      "metadata": {
        "colab": {
          "base_uri": "https://localhost:8080/"
        },
        "id": "dziU5-q5R6UV",
        "outputId": "ff600093-69e5-42c1-f51d-b6c679cec1cd"
      },
      "execution_count": null,
      "outputs": [
        {
          "output_type": "stream",
          "name": "stdout",
          "text": [
            "Found 403 images belonging to 2 classes.\n"
          ]
        }
      ]
    },
    {
      "cell_type": "code",
      "source": [
        "# Obtener las probabilidades predichas\n",
        "probabilidades_test = model.predict(test_generator)\n",
        "\n",
        "# Aplicar el umbral personalizado para clasificar\n",
        "umbral_personalizado = 0.4  # Puedes ajustar este umbral si es necesario\n",
        "predicciones_test = (probabilidades_test >= umbral_personalizado).astype(int)\n"
      ],
      "metadata": {
        "colab": {
          "base_uri": "https://localhost:8080/"
        },
        "id": "-LQrrWbqR7DQ",
        "outputId": "9e5e626a-7b73-4187-c431-9be1067b3dde"
      },
      "execution_count": null,
      "outputs": [
        {
          "output_type": "stream",
          "name": "stdout",
          "text": [
            "\u001b[1m 2/13\u001b[0m \u001b[32m━━━\u001b[0m\u001b[37m━━━━━━━━━━━━━━━━━\u001b[0m \u001b[1m1s\u001b[0m 94ms/step "
          ]
        },
        {
          "output_type": "stream",
          "name": "stderr",
          "text": [
            "Your `PyDataset` class should call `super().__init__(**kwargs)` in its constructor. `**kwargs` can include `workers`, `use_multiprocessing`, `max_queue_size`. Do not pass these arguments to `fit()`, as they will be ignored.\n"
          ]
        },
        {
          "output_type": "stream",
          "name": "stdout",
          "text": [
            "\u001b[1m13/13\u001b[0m \u001b[32m━━━━━━━━━━━━━━━━━━━━\u001b[0m\u001b[37m\u001b[0m \u001b[1m1s\u001b[0m 87ms/step\n"
          ]
        }
      ]
    },
    {
      "cell_type": "code",
      "source": [
        "from sklearn.metrics import accuracy_score, precision_score, recall_score\n",
        "\n",
        "# Obtener las etiquetas verdaderas del generador\n",
        "etiquetas_test = test_generator.classes\n",
        "\n",
        "# Calcular las métricas\n",
        "recall_test = recall_score(etiquetas_test, predicciones_test)\n",
        "precision_test = precision_score(etiquetas_test, predicciones_test)\n",
        "accuracy_test = accuracy_score(etiquetas_test, predicciones_test)\n",
        "\n",
        "print(f\"Recall en el conjunto de test con umbral personalizado de {umbral_personalizado}: {recall_test:.4f}\")\n",
        "print(f\"Precisión en el conjunto de test con umbral personalizado de {umbral_personalizado}: {precision_test:.4f}\")\n",
        "print(f\"Exactitud en el conjunto de test con umbral personalizado de {umbral_personalizado}: {accuracy_test:.4f}\")\n"
      ],
      "metadata": {
        "colab": {
          "base_uri": "https://localhost:8080/"
        },
        "id": "_GsVcGN5R93e",
        "outputId": "165a6097-3e4b-42e9-ce05-4d6efc9097e3"
      },
      "execution_count": null,
      "outputs": [
        {
          "output_type": "stream",
          "name": "stdout",
          "text": [
            "Recall en el conjunto de test con umbral personalizado de 0.4: 0.9857\n",
            "Precisión en el conjunto de test con umbral personalizado de 0.4: 0.9904\n",
            "Exactitud en el conjunto de test con umbral personalizado de 0.4: 0.9876\n"
          ]
        }
      ]
    },
    {
      "cell_type": "code",
      "source": [
        "from sklearn.metrics import confusion_matrix\n",
        "import matplotlib.pyplot as plt\n",
        "import seaborn as sns\n",
        "\n",
        "# Generar la matriz de confusión\n",
        "cm = confusion_matrix(etiquetas_test, predicciones_test)\n",
        "\n",
        "# Visualizar la matriz de confusión\n",
        "plt.figure(figsize=(6, 5))\n",
        "sns.heatmap(cm, annot=True, fmt='d', cmap='Blues', xticklabels=['Normal', 'Accidente'], yticklabels=['Normal', 'Accidente'])\n",
        "plt.xlabel('Predicción')\n",
        "plt.ylabel('Etiqueta Verdadera')\n",
        "plt.title('Matriz de Confusión')\n",
        "plt.show()\n"
      ],
      "metadata": {
        "colab": {
          "base_uri": "https://localhost:8080/",
          "height": 487
        },
        "id": "JN_UpqNNSGAe",
        "outputId": "7dacd7fa-781a-4c36-9e66-2a108f8c8603"
      },
      "execution_count": null,
      "outputs": [
        {
          "output_type": "display_data",
          "data": {
            "text/plain": [
              "<Figure size 600x500 with 2 Axes>"
            ],
            "image/png": "[encoded data removed]"
          },
          "metadata": {}
        }
      ]
    },
    {
      "cell_type": "code",
      "source": [
        "import numpy as np\n",
        "from tensorflow.keras.preprocessing import image\n",
        "\n",
        "\n",
        "def predict_frame(frame_path, umbral=0.4):  # Ajusta el umbral según sea necesario\n",
        "    img = image.load_img(frame_path, target_size=(224, 224))\n",
        "    img_array = image.img_to_array(img) / 255.0\n",
        "    img_array = np.expand_dims(img_array, axis=0)\n",
        "\n",
        "    prediction = model.predict(img_array)\n",
        "    return \"Accidente\" if prediction[0][0] > umbral else \"No Accidente\"\n",
        "\n",
        "\n",
        "\n",
        "\n",
        "predict_frame(\"/content/image4.jpg\")"
      ],
      "metadata": {
        "colab": {
          "base_uri": "https://localhost:8080/",
          "height": 54
        },
        "id": "2v-QhZUeUsSX",
        "outputId": "39302268-910a-4e35-fb2d-9cea2ef7afb9"
      },
      "execution_count": null,
      "outputs": [
        {
          "output_type": "stream",
          "name": "stdout",
          "text": [
            "\u001b[1m1/1\u001b[0m \u001b[32m━━━━━━━━━━━━━━━━━━━━\u001b[0m\u001b[37m\u001b[0m \u001b[1m0s\u001b[0m 17ms/step\n"
          ]
        },
        {
          "output_type": "execute_result",
          "data": {
            "text/plain": [
              "'Accidente'"
            ],
            "application/vnd.google.colaboratory.intrinsic+json": {
              "type": "string"
            }
          },
          "metadata": {},
          "execution_count": 18
        }
      ]
    },
    {
      "cell_type": "code",
      "source": [
        "import numpy as np\n",
        "from sklearn.metrics import precision_score, recall_score, f1_score\n",
        "\n",
        "# Definir diferentes umbrales\n",
        "umbral_values = np.arange(0.0, 1.0, 0.05)\n",
        "mejor_umbral = 0\n",
        "mejor_f1_score = 0\n",
        "\n",
        "for umbral in umbral_values:\n",
        "    predicciones_personalizadas = (probabilidades >= umbral).astype(int)\n",
        "    f1 = f1_score(etiquetas_verdaderas, predicciones_personalizadas)\n",
        "\n",
        "    if f1 > mejor_f1_score:\n",
        "        mejor_f1_score = f1\n",
        "        mejor_umbral = umbral\n",
        "\n",
        "# Usar el mejor umbral\n",
        "print(f\"Mejor umbral: {mejor_umbral} con F1-score: {mejor_f1_score:.4f}\")\n",
        "\n",
        "# Recalcular las métricas usando el mejor umbral\n",
        "predicciones_personalizadas = (probabilidades >= mejor_umbral).astype(int)\n",
        "recall = recall_score(etiquetas_verdaderas, predicciones_personalizadas)\n",
        "precision = precision_score(etiquetas_verdaderas, predicciones_personalizadas)\n",
        "accuracy = accuracy_score(etiquetas_verdaderas, predicciones_personalizadas)\n",
        "\n",
        "print(f'Recall: {recall:.4f}')\n",
        "print(f'Precisión: {precision:.4f}')\n",
        "print(f'Exactitud: {accuracy:.4f}')\n",
        "\n"
      ],
      "metadata": {
        "colab": {
          "base_uri": "https://localhost:8080/"
        },
        "id": "Vl0T_YJmWkbc",
        "outputId": "88e1eb26-bb88-41f3-c146-94965ed889b4"
      },
      "execution_count": null,
      "outputs": [
        {
          "output_type": "stream",
          "name": "stdout",
          "text": [
            "Mejor umbral: 0.4 con F1-score: 0.9857\n",
            "Recall: 0.9857\n",
            "Precisión: 0.9857\n",
            "Exactitud: 0.9851\n"
          ]
        }
      ]
    }
  ]
}